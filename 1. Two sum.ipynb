{
 "cells": [
  {
   "cell_type": "markdown",
   "metadata": {},
   "source": [
    "# 1) Two sum"
   ]
  },
  {
   "cell_type": "markdown",
   "metadata": {},
   "source": [
    "### Given an array of integers nums and an integer target, return indices of the two numbers such that they add up to target.\n",
    "\n",
    "### You may assume that each input would have exactly one solution, and you may not use the same element twice."
   ]
  },
  {
   "cell_type": "markdown",
   "metadata": {},
   "source": [
    "### Example 1:\n",
    "### Input: nums = [2,7,11,15], target = 9\n",
    "### Output: [0,1]\n",
    "### Explanation: Because nums[0] + nums[1] == 9, we return [0, 1].\n",
    "\n",
    "### Example 2:\n",
    "### Input: nums = [3,2,4], target = 6\n",
    "### Output: [1,2]\n",
    "\n",
    "### Example 3:\n",
    "### Input: nums = [3,3], target = 6\n",
    "### Output: [0,1]\n",
    " \n",
    "\n",
    "### Constraints:\n",
    "### 2 <= nums.length <= 104\n",
    "### -109 <= nums[i] <= 109\n",
    "### -109 <= target <= 109\n",
    "### Only one valid answer exists.\n",
    " \n",
    "\n",
    "Follow-up: Can you come up with an algorithm that is less than O(n2) time complexity?"
   ]
  },
  {
   "cell_type": "code",
   "execution_count": null,
   "metadata": {},
   "outputs": [],
   "source": [
    "class Solution(object):\n",
    "    def twoSum(self, nums, target):\n",
    "        seen = []\n",
    "        for i in range(len(nums) - 1):\n",
    "            for j in range(i + 1, len(nums)):\n",
    "                if nums[j] == (target - nums[i]):\n",
    "                    seen.append(i)\n",
    "                    seen.append(j)\n",
    "                   \n",
    "                else:\n",
    "                    continue\n",
    "        return seen"
   ]
  }
 ],
 "metadata": {
  "language_info": {
   "name": "python"
  },
  "orig_nbformat": 4
 },
 "nbformat": 4,
 "nbformat_minor": 2
}
