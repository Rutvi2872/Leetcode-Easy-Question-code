{
 "cells": [
  {
   "cell_type": "markdown",
   "metadata": {},
   "source": [
    "## You are given a positive integer arrivalTime denoting the arrival time of a train in hours, and another positive integer delayedTime denoting the amount of delay in hours.\n",
    "\n",
    "### Return the time when the train will arrive at the station.\n",
    "\n",
    "### Note that the time in this problem is in 24-hours format.\n",
    "\n",
    " \n",
    "\n",
    "## Example 1:\n",
    "\n",
    "### Input: arrivalTime = 15, delayedTime = 5 \n",
    "### Output: 20 \n",
    "### Explanation: Arrival time of the train was 15:00 hours. It is delayed by 5 hours. Now it will reach at 15+5 = 20 (20:00 hours).\n",
    "\n",
    "## Example 2:\n",
    "### Input: arrivalTime = 13, delayedTime = 11\n",
    "### Output: 0\n",
    "### Explanation: Arrival time of the train was 13:00 hours. It is delayed by 11 hours. Now it will reach at 13+11=24 (Which is denoted by 00:00 in 24 hours format so return 0).\n"
   ]
  },
  {
   "cell_type": "code",
   "execution_count": null,
   "metadata": {},
   "outputs": [],
   "source": [
    "class Solution:\n",
    "    def findDelayedArrivalTime(self, arrivalTime: int, delayedTime: int) -> int:\n",
    "        return (arrivalTime + delayedTime) % 24 "
   ]
  }
 ],
 "metadata": {
  "language_info": {
   "name": "python"
  },
  "orig_nbformat": 4
 },
 "nbformat": 4,
 "nbformat_minor": 2
}
