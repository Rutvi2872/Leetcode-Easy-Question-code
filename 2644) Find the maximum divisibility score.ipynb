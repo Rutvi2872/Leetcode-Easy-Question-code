{
 "cells": [
  {
   "cell_type": "markdown",
   "metadata": {},
   "source": [
    "## You are given two 0-indexed integer arrays nums and divisors.\n",
    "\n",
    "### The divisibility score of divisors[i] is the number of indices j such that nums[j] is divisible by divisors[i].\n",
    "\n",
    "### Return the integer divisors[i] with the maximum divisibility score. If there is more than one integer with the maximum score, return the minimum of them.\n",
    "\n",
    "## Example 1:\n",
    "### Input: nums = [4,7,9,3,9], divisors = [5,2,3]\n",
    "### Output: 3\n",
    "### Explanation: The divisibility score for every element in divisors is:\n",
    "### The divisibility score of divisors[0] is 0 since no number in nums is divisible by 5.\n",
    "### The divisibility score of divisors[1] is 1 since nums[0] is divisible by 2.\n",
    "### The divisibility score of divisors[2] is 3 since nums[2], nums[3], and nums[4] are divisible by 3.\n",
    "### Since divisors[2] has the maximum divisibility score, we return it.\n",
    "\n",
    "## Example 2:\n",
    "### Input: nums = [20,14,21,10], divisors = [5,7,5]\n",
    "### Output: 5\n",
    "### Explanation: The divisibility score for every element in divisors is:\n",
    "### The divisibility score of divisors[0] is 2 since nums[0] and nums[3] are divisible by 5.\n",
    "### The divisibility score of divisors[1] is 2 since nums[1] and nums[2] are divisible by 7.\n",
    "### The divisibility score of divisors[2] is 2 since nums[0] and nums[3] are divisible by 5.\n",
    "### Since divisors[0], divisors[1], and divisors[2] all have the maximum divisibility score, we return the minimum of them (i.e., divisors[2]).\n",
    "\n",
    "## Example 3:\n",
    "### Input: nums = [12], divisors = [10,16]\n",
    "### Output: 10\n",
    "### Explanation: The divisibility score for every element in divisors is:\n",
    "### The divisibility score of divisors[0] is 0 since no number in nums is divisible by 10.\n",
    "### The divisibility score of divisors[1] is 0 since no number in nums is divisible by 16.\n",
    "### Since divisors[0] and divisors[1] both have the maximum divisibility score, we return the minimum of them (i.e., divisors[0]).\n"
   ]
  },
  {
   "cell_type": "code",
   "execution_count": 2,
   "metadata": {},
   "outputs": [],
   "source": [
    "class Solution:\n",
    "    def maxDivScore(self, nums, divisors) -> int:\n",
    "        return -max([sum(n % d == 0 for n in nums), -d] for d in divisors)[1]\n",
    "\n",
    "# class Solution:\n",
    "    # def maxDivScore(nums, divisors):\n",
    "    #     list = []\n",
    "    #     for i in divisors:\n",
    "    #         count = 0\n",
    "    #         for j in nums:\n",
    "    #             if i % j == 0:\n",
    "    #                 count  += 1\n",
    "    #         list.append(count)\n",
    "    #     return divisors[list.index(max(list))]   "
   ]
  }
 ],
 "metadata": {
  "kernelspec": {
   "display_name": "Python 3",
   "language": "python",
   "name": "python3"
  },
  "language_info": {
   "codemirror_mode": {
    "name": "ipython",
    "version": 3
   },
   "file_extension": ".py",
   "mimetype": "text/x-python",
   "name": "python",
   "nbconvert_exporter": "python",
   "pygments_lexer": "ipython3",
   "version": "3.10.11"
  },
  "orig_nbformat": 4
 },
 "nbformat": 4,
 "nbformat_minor": 2
}
