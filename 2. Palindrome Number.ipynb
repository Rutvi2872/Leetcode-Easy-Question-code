{
 "cells": [
  {
   "cell_type": "markdown",
   "metadata": {},
   "source": [
    "# Palindrome Number\n",
    "\n",
    "### Given an integer x, return true if x is a palindrome, and false otherwise.\n",
    " \n",
    "### Example 1:\n",
    "### Input: x = 121\n",
    "### Output: true\n",
    "### Explanation: 121 reads as 121 from left to right and from right to left.\n",
    "\n",
    "### Example 2:\n",
    "### Input: x = -121\n",
    "### Output: false\n",
    "### Explanation: From left to right, it reads -121. From right to left, it becomes 121-. Therefore it is not a palindrome.\n",
    "\n",
    "### Example 3:\n",
    "### Input: x = 10\n",
    "### Output: false\n",
    "### Explanation: Reads 01 from right to left. Therefore it is not a palindrome.\n",
    " \n",
    "### Constraints:\n",
    "### -231 <= x <= 231 - 1\n"
   ]
  },
  {
   "cell_type": "code",
   "execution_count": 1,
   "metadata": {},
   "outputs": [],
   "source": [
    "class Solution(object):\n",
    "    def isPalindrome(self, x):\n",
    "        str_x = str(x)\n",
    "        return str_x == str_x[::-1]\n",
    "           "
   ]
  }
 ],
 "metadata": {
  "kernelspec": {
   "display_name": "Python 3",
   "language": "python",
   "name": "python3"
  },
  "language_info": {
   "codemirror_mode": {
    "name": "ipython",
    "version": 3
   },
   "file_extension": ".py",
   "mimetype": "text/x-python",
   "name": "python",
   "nbconvert_exporter": "python",
   "pygments_lexer": "ipython3",
   "version": "3.10.11"
  },
  "orig_nbformat": 4
 },
 "nbformat": 4,
 "nbformat_minor": 2
}
