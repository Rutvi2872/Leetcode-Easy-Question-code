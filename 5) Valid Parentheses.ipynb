{
 "cells": [
  {
   "cell_type": "markdown",
   "metadata": {},
   "source": [
    "# Valid Parentheses\n",
    "\n",
    "### Given a string s containing just the characters '(', ')', '{', '}', '[' and ']', determine if the input string is valid.\n",
    "\n",
    "### An input string is valid if:\n",
    "\n",
    "### 1) Open brackets must be closed by the same type of brackets.\n",
    "### 2) Open brackets must be closed in the correct order.\n",
    "### 3) Every close bracket has a corresponding open bracket of the same type.\n",
    " \n",
    "### Example 1:\n",
    "### Input: s = \"()\"\n",
    "### Output: true\n",
    "\n",
    "### Example 2:\n",
    "### Input: s = \"()[]{}\"\n",
    "### Output: true\n",
    "\n",
    "### Example 3:\n",
    "### Input: s = \"(]\"\n",
    "### Output: false\n",
    " \n",
    "### Constraints:\n",
    "### 1 <= s.length <= 104\n",
    "### s consists of parentheses only '()[]{}'."
   ]
  },
  {
   "cell_type": "code",
   "execution_count": null,
   "metadata": {},
   "outputs": [],
   "source": [
    "class Solution(object):\n",
    "    def isValid(self, s):\n",
    "        leftsymbol = []\n",
    "        for c in s:\n",
    "            if c in ['(', '{', '[']:\n",
    "                leftsymbol.append(c)\n",
    "            elif c == ')' and len(leftsymbol) != 0 and leftsymbol[-1] == '(':\n",
    "                leftsymbol.pop()\n",
    "            elif c == '}' and len(leftsymbol) != 0 and leftsymbol[-1] == '{':\n",
    "                leftsymbol.pop()\n",
    "            elif c == ']' and len(leftsymbol) != 0 and leftsymbol[-1] == '[':\n",
    "                leftsymbol.pop()\n",
    "            else: \n",
    "                return False\n",
    "        return leftsymbol == []"
   ]
  }
 ],
 "metadata": {
  "language_info": {
   "name": "python"
  },
  "orig_nbformat": 4
 },
 "nbformat": 4,
 "nbformat_minor": 2
}
