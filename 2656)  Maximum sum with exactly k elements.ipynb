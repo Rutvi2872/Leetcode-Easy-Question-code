{
 "cells": [
  {
   "cell_type": "markdown",
   "metadata": {},
   "source": [
    "## You are given a 0-indexed integer array nums and an integer k. Your task is to perform the following operation exactly k times in order to maximize your score:\n",
    "\n",
    "### Select an element m from nums.\n",
    "### Remove the selected element m from the array.\n",
    "### Add a new element with a value of m + 1 to the array.\n",
    "### Increase your score by m.\n",
    "### Return the maximum score you can achieve after performing the operation exactly k times.\n",
    "\n",
    "## Example 1:\n",
    "\n",
    "### Input: nums = [1,2,3,4,5], k = 3\n",
    "### Output: 18\n",
    "### Explanation: We need to choose exactly 3 elements from nums to maximize the sum.\n",
    "### For the first iteration, we choose 5. Then sum is 5 and nums = [1,2,3,4,6]\n",
    "### For the second iteration, we choose 6. Then sum is 5 + 6 and nums = [1,2,3,4,7]\n",
    "### For the third iteration, we choose 7. Then sum is 5 + 6 + 7 = 18 and nums = [1,2,3,4,8]\n",
    "### So, we will return 18.\n",
    "### It can be proven, that 18 is the maximum answer that we can achieve.\n",
    "\n",
    "## Example 2:\n",
    "### Input: nums = [5,5,5], k = 2\n",
    "### Output: 11\n",
    "### Explanation: We need to choose exactly 2 elements from nums to maximize the sum.\n",
    "### For the first iteration, we choose 5. Then sum is 5 and nums = [5,5,6]\n",
    "### For the second iteration, we choose 6. Then sum is 5 + 6 = 11 and nums = [5,5,7]\n",
    "### So, we will return 11.\n",
    "### It can be proven, that 11 is the maximum answer that we can achieve."
   ]
  },
  {
   "cell_type": "code",
   "execution_count": null,
   "metadata": {},
   "outputs": [],
   "source": [
    "class Solution:\n",
    "    def maximizeSum(self, nums: List[int], k: int) -> int:\n",
    "        m = nums[0]\n",
    "        for i in nums:\n",
    "            if i > m:\n",
    "                m = i\n",
    "        ans = 0\n",
    "        for i in range(0, k):\n",
    "            ans += m\n",
    "            m += 1\n",
    "        return ans  \n",
    "        "
   ]
  }
 ],
 "metadata": {
  "language_info": {
   "name": "python"
  },
  "orig_nbformat": 4
 },
 "nbformat": 4,
 "nbformat_minor": 2
}
