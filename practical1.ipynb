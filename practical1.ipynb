{
 "cells": [
  {
   "attachments": {},
   "cell_type": "markdown",
   "metadata": {},
   "source": [
    "# Practical 1 - Analyse various sorting algorithms and compare them."
   ]
  },
  {
   "cell_type": "code",
   "execution_count": 50,
   "metadata": {},
   "outputs": [],
   "source": [
    "import time, random\n",
    "\n",
    "class SortingAlgoAnalysis():\n",
    "\n",
    "    def bubble_sort_execution_time(self, array: list()):\n",
    "        start_time = time.time()\n",
    "        len_of_array = len(array)\n",
    "        for i in range(len_of_array):\n",
    "            for j in range(0, len_of_array - i - 1):\n",
    "                if array[j] > array[j + 1]:\n",
    "                    array[j], array[j + 1] = array[j + 1], array[j]\n",
    "        end_time = time.time()\n",
    "        return end_time - start_time\n",
    "    \n",
    "    def selection_sort_execution_time(self, array: list()):\n",
    "        start_time = time.time()\n",
    "        len_of_array = len(array)\n",
    "        for i in range(len_of_array):\n",
    "            min_index = i\n",
    "            for j in range(i + 1, len_of_array):\n",
    "                if array[j] < array[min_index]:\n",
    "                    min_index = j\n",
    "            array[i], array[min_index] = array[min_index], array[i]\n",
    "        end_time = time.time()\n",
    "        return end_time - start_time\n",
    "    \n",
    "    def partition_for_quick_sort(self, array: list(), low, high):\n",
    "        pivot = array[high]\n",
    "        i = low - 1\n",
    "\n",
    "        for j in range(low, high):\n",
    "            if array[j] <= pivot:\n",
    "                i = i + 1\n",
    "                array[i], array[j] = array[j], array[i]\n",
    "        \n",
    "        array[i + 1], array[high] = array[high], array[i + 1]\n",
    "        return i + 1\n",
    "\n",
    "    def quick_sort_execution_time(self, array: list(), low, high):\n",
    "        start_time = time.time()\n",
    "        if low < high:\n",
    "            partition = self.partition_for_quick_sort(array=array, low=low, high=high)\n",
    "            self.quick_sort_execution_time(array=array, low=low, high=partition - 1)\n",
    "            self.quick_sort_execution_time(array=array, low=partition + 1, high=high)\n",
    "        end_time = time.time()\n",
    "        return end_time - start_time\n",
    "    \n",
    "    def insertion_sort_execution_time(self, array: list()):\n",
    "        start_time = time.time()\n",
    "        if (n := len(array)) <= 1:\n",
    "            return\n",
    "        for i in range(1, n):\n",
    "            key = array[i]\n",
    "            j = i - 1\n",
    "            while j >= 0 and key < array[j]:\n",
    "                array[j + 1] = array[j]\n",
    "                j -= 1\n",
    "            array[j + 1] = key\n",
    "        end_time = time.time()\n",
    "        return end_time - start_time\n"
   ]
  },
  {
   "cell_type": "code",
   "execution_count": 51,
   "metadata": {},
   "outputs": [
    {
     "name": "stdout",
     "output_type": "stream",
     "text": [
      "Bubble sort execution time: 13.4858 seconds\n",
      "Selection sort execution time: 5.4863 seconds\n",
      "Quick sort execution time: 0.1745 seconds\n",
      "Insertion sort execution time: 5.9368 seconds\n"
     ]
    }
   ],
   "source": [
    "sorting_algo_analysis = SortingAlgoAnalysis()\n",
    "array = [random.randint(0, 100) for i in range(10000)]\n",
    "\n",
    "temp_array = array.copy()\n",
    "print(f\"Bubble sort execution time: {sorting_algo_analysis.bubble_sort_execution_time(array=temp_array):0.4f} seconds\")\n",
    "\n",
    "temp_array = array.copy()\n",
    "print(f\"Selection sort execution time: {sorting_algo_analysis.selection_sort_execution_time(array=temp_array):0.4f} seconds\")\n",
    "\n",
    "temp_array = array.copy()\n",
    "print(f\"Quick sort execution time: {sorting_algo_analysis.quick_sort_execution_time(array=temp_array, low=0, high=len(temp_array) - 1):0.4f} seconds\")\n",
    "\n",
    "temp_array = array.copy()\n",
    "print(f\"Insertion sort execution time: {sorting_algo_analysis.insertion_sort_execution_time(array=temp_array):0.4f} seconds\")"
   ]
  }
 ],
 "metadata": {
  "kernelspec": {
   "display_name": "college",
   "language": "python",
   "name": "python3"
  },
  "language_info": {
   "codemirror_mode": {
    "name": "ipython",
    "version": 3
   },
   "file_extension": ".py",
   "mimetype": "text/x-python",
   "name": "python",
   "nbconvert_exporter": "python",
   "pygments_lexer": "ipython3",
   "version": "3.9.6"
  },
  "orig_nbformat": 4
 },
 "nbformat": 4,
 "nbformat_minor": 2
}
